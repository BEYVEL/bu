{
 "cells": [
  {
   "cell_type": "markdown",
   "metadata": {},
   "source": [
    "<center>\n",
    "    <h1>AD 587 &ndash; Interdisciplinary Methods in Quantitative Finance</h1>\n",
    "    <h2>Lecture 2 Notebook</h2>\n",
    "</center>\n",
    "\n",
    "___\n",
    "\n",
    "This Jupyter Notebook contains exercises and demonstrations for lecture 2."
   ]
  },
  {
   "cell_type": "markdown",
   "metadata": {},
   "source": [
    "## Revisiting the Normal Distribution\n",
    "\n",
    "\n",
    "<div class=\"alert alert-warning\">\n",
    "<b>Normal Distribution</b><p>\n",
    "    If a random variable follows the normal distribution, \n",
    "    we write $X\\sim \\mathcal{N}\\left(\\mu,\\sigma^2\\right)$, \n",
    "    where $\\mu$ is the expected value of the distribution and $\\sigma^2$ is the variance.\n",
    "    The probability density function of the normal distribution is\n",
    "    <p>\n",
    "        $$f\\left(x | \\mu,\\sigma^2\\right) = \\frac{1}{\\sqrt{2\\pi\\sigma^2}}\\;\\exp\\left[-\\frac{1}{2}\\frac{(x-\\mu)^2}{\\sigma^2}\\right].$$\n",
    "    <p>\n",
    "        $\\mu$ can be any value, $\\sigma^2$ needs to be a non-zero positive number &ndash; indicating that there is some kind of uncertainty.\n",
    "</div>\n",
    "\n",
    "<div class=\"alert alert-warning\">\n",
    "<b>Standard Normal Distribution</b><p>\n",
    "    The normal distribution with zero mean and unit variance, $\\mathcal{N}(0,1)$, is called the standard normal distribution.\n",
    "</div>\n",
    "\n",
    "To visualize the distribution function (and to compute it, of course), we use the module `scipy.stats.`\n",
    "Within `scipy.stats`, a module for statistical function, there is a submodule called `norm` which contains all things normal distribution.\n",
    "\n",
    "\n",
    "We call the `pdf()` function; pdf stands for probability density function, the statistical name of probability function for a continuous distribution.\n",
    "We pass three arguments to this function:\n",
    "\n",
    "* `x_list`, the range of outcomes. <br>Since the `range()` function can only create a range of integers, it is often insufficient. Instead, we can use the `linspace()` function from the `numpy` package. The `linspace()` function takes three arguments, the lowest number in the range, the highest number in the range, and the number of steps. For example, `np.linspace(-1,1,5)` creates an array of 5 equidistant numbers from -1 to +1, returning `array([-1., -0.5,  0.,  0.5,  1.])`.\n",
    "* `mu`, the mean or expected value of the process.\n",
    "* `std`, the standard deviation of the process. Recall: the standard deviation is the square root of the variance.\n",
    "\n",
    "The function returns an array of the value of the pdf at the list of potential outcomes we give it.\n",
    "\n",
    "Instead of plotting the probability function for only one set of parameters $\\mu, \\sigma$, let's visualize multiple combinations."
   ]
  },
  {
   "cell_type": "code",
   "execution_count": null,
   "metadata": {
    "scrolled": true
   },
   "outputs": [],
   "source": [
    "import numpy as np\n",
    "import matplotlib.pyplot as plt\n",
    "from scipy.stats import norm\n",
    "\n",
    "x_list = np.linspace(-8, 8, 100)\n",
    "\n",
    "fig, ax = plt.subplots(figsize=(8, 3))\n",
    "ax.plot(x_list, norm.pdf(x_list, 0, 1), label=\"$\\mu=0, \\sigma=1$\", color=\"black\")\n",
    "ax.plot(x_list, norm.pdf(x_list, 2, 1), label=\"$\\mu=2, \\sigma=1$\", color=\"red\")\n",
    "ax.plot(x_list, norm.pdf(x_list,-1, 2), label=\"$\\mu=-1, \\sigma=2$\", color=\"blue\")\n",
    "ax.plot(x_list, norm.pdf(x_list, 0, 3), label=\"$\\mu=0, \\sigma=3$\", color=\"green\")\n",
    "ax.legend();"
   ]
  },
  {
   "cell_type": "markdown",
   "metadata": {},
   "source": [
    "\n",
    "#### Important Properties of the Normal Distribution\n",
    "\n",
    "Consider two random variables, $X$ and $Y$. \n",
    "\n",
    "* $X\\sim\\mathcal{N}\\left(\\mu_X, \\sigma_X^2\\right)$ follows a normal distribution function with mean $\\mu_X$ and variance $\\sigma_X^2$.\n",
    "* $Y\\sim\\mathcal{N}\\left(\\mu_Y, \\sigma_Y^2\\right)$ follows a normal distribution function with mean $\\mu_Y$ and variance $\\sigma_Y^2$.\n",
    "\n",
    "Then the sum $X+Y$ follows a normal distribution function where the mean is the sum of the means and the variance is the sum of the variances: \n",
    "$$X+Y\\sim\\mathcal{N}\\left(\\mu_X+\\mu_Y, \\sigma_X^2+\\sigma_Y^2\\right).$$\n",
    "\n",
    "To illustrate this, let's create 5000 random numbers for $X\\sim\\mathcal{N}\\left(0, 1^2\\right)$ and $Y\\sim\\mathcal{N}\\left(1, 2^2\\right)$, add them, and compare the result to a normal distribution with the updated parameters.\n",
    "\n",
    "As you see in the figure below $X+Y$ indeed follows a normal distribution with mean $0+1$ and variance $1^2+2^2$. \n",
    "\n",
    "(Remember that the function `np.random.normal()` expects the mean and the standard deviation as arguments, not the mean and variance.)"
   ]
  },
  {
   "cell_type": "code",
   "execution_count": null,
   "metadata": {},
   "outputs": [],
   "source": [
    "np.random.seed(538)\n",
    "\n",
    "muX = 0\n",
    "muY = 1\n",
    "sigmaX = 1\n",
    "sigmaY = 2\n",
    "\n",
    "X = np.random.normal(muX, sigmaX, size=500000)\n",
    "Y = np.random.normal(muY, sigmaY, size=500000)\n",
    "\n",
    "X_plus_Y = X + Y\n",
    "\n",
    "x_range = np.linspace(-7, 9, 100)\n",
    "\n",
    "fig, ax = plt.subplots(figsize=(8, 4))\n",
    "ax.hist(X_plus_Y, bins=x_range, density=True)\n",
    "ax.plot(x_range, norm.pdf(x_range, muX+muY, np.sqrt(sigmaX**2+sigmaY**2)));"
   ]
  },
  {
   "cell_type": "markdown",
   "metadata": {},
   "source": [
    "\n",
    "#### Cumulative Distribution Function\n",
    "\n",
    "Often we are interested not in the likelihood of specific outcomes, but the likelihood of range of outcomes. \n",
    "An investor is less concerned with the odds of a stock in their portfolio hitting a certain dollar target; instead they would ask: \"what are the odds that the stock price is at least \\\\$100 by the end of the year?\n",
    "\n",
    "To answer this question, we introduce the cumulative distribution function (cdf), a close relative of the probability density function.\n",
    "While we are going to discuss the cdf of the normal distribution in detail, note that the binomial distribution, the uniform distribution, and other distributions also have their own cumulative distribution function.\n",
    "\n",
    "The pdf describes the probability density of the random variable $X$ at point $X=x$, and the cumulative distribution function describes the cumulative probability of the random variable $X$ for all values less than or equal to $X=x$, that is, $P(X\\le x)$. \n",
    "\n",
    "Visually, it is the area under the curve from $-\\infty$ to $x$.\n",
    "Consider the example below where the blue shaded area describes the aggregate probability for $X$ to be less than $-1$, that is, $P(X\\le 1)$ for a random variable $X$ that is distributed normally with mean 0 and standard deviation 1. \n",
    "\n"
   ]
  },
  {
   "cell_type": "code",
   "execution_count": null,
   "metadata": {
    "scrolled": true
   },
   "outputs": [],
   "source": [
    "x_list = np.linspace(-4, 4, 100)\n",
    "fill_list = np.linspace(-4, -1, 100)\n",
    "\n",
    "fig, ax = plt.subplots(figsize=(8, 3))\n",
    "\n",
    "ax.plot(x_list, norm.pdf(x_list, 0, 1))\n",
    "ax.fill_between(fill_list, 0, norm.pdf(fill_list, 0, 1));"
   ]
  },
  {
   "cell_type": "markdown",
   "metadata": {},
   "source": [
    "\n",
    "\n",
    "How much probability is to the left of $x=-1$? \n",
    "We call the `cdf()` function, and we pass as arguments the value of $x$. \n",
    "The mean and standard deviation are optional arguments; by default they are assumed to be 0 and 1. \n",
    "Even though our example is a normal distribution with mean 0 and standard deviation of 1, we are passing the values nevertheless, for clarity.\n",
    "\n"
   ]
  },
  {
   "cell_type": "code",
   "execution_count": null,
   "metadata": {
    "scrolled": true
   },
   "outputs": [],
   "source": [
    "norm.cdf(-1, 0, 1)"
   ]
  },
  {
   "cell_type": "markdown",
   "metadata": {},
   "source": [
    "#### Practice Problem I\n",
    "\n",
    "Find the probability that is to the right of $x=-1$, that is, find $P(X>-1).$"
   ]
  },
  {
   "cell_type": "code",
   "execution_count": null,
   "metadata": {},
   "outputs": [],
   "source": []
  },
  {
   "cell_type": "markdown",
   "metadata": {},
   "source": [
    "\n",
    "#### Practice Problem II\n",
    "\n",
    "Plot the cumulative distribution function for zero mean and unit variance, i.e. $\\mu = 0$ and $\\sigma^2=1$ implying $\\sigma=1$."
   ]
  },
  {
   "cell_type": "code",
   "execution_count": null,
   "metadata": {},
   "outputs": [],
   "source": []
  },
  {
   "cell_type": "markdown",
   "metadata": {},
   "source": [
    "This concludes the section \"Revisiting the Normal Distribution\"\n",
    "_____"
   ]
  },
  {
   "cell_type": "markdown",
   "metadata": {},
   "source": [
    "## Brownian Motion with a Drift\n",
    "\n",
    "In lecture, we have seen the random walk described by\n",
    "\n",
    "$$dS = \\mu dt + \\sigma \\epsilon \\sqrt{dt}.$$\n",
    "\n",
    "When coding, we need to translate this to discrete timesteps, which amounts to \n",
    "\n",
    "$$\\Delta S_t = \\mu + \\sigma Z_t,$$\n",
    "\n",
    "where $Z_t$ is a random normal variable with mean 0 and standard deviation 1. \n",
    "\n",
    "### Visualizing the two-dimensional random walker\n",
    "\n",
    "In this first example, we are going to simulate a two-dimensional random walker, like in the very first graph we have seen in the lecture slides and which we are now going to recreate. \n",
    "\n",
    "At each time step, our x- and y-coordinates are given as $X_t$ and $Y_t$, and we change them by a deterministic amount $\\mu$ and a random amount $\\sigma Z_t^X$ and $\\sigma Z_t^Y$, respectively.\n",
    "\n",
    "\n",
    "The position of our random walker at any given point $T$ is obtained by considering its initial position $(X_0, Y_0)$ and summing up all the changes until that point:\n",
    "\n",
    "$$X_T = X_0 + \\sum_{t=1}^T \\Delta X_t,$$\n",
    "\n",
    "and likewise for $Y_T$. Below, you find the annotated code to realize this."
   ]
  },
  {
   "cell_type": "code",
   "execution_count": null,
   "metadata": {
    "scrolled": true
   },
   "outputs": [],
   "source": [
    "import numpy as np\n",
    "import matplotlib.pyplot as plt\n",
    "\n",
    "\n",
    "# Set the parameters and initial condition for the random walk.\n",
    "muX = 0\n",
    "muY = 0\n",
    "sigma = 0.5\n",
    "X0 = 2.0\n",
    "Y0 = 2.0\n",
    "T = 200\n",
    "# Create T random time steps from a normal distribution.\n",
    "X = np.random.normal(0, 1, T)\n",
    "Y = np.random.normal(0, 1, T)\n",
    "\n",
    "# Insert the first step into the array and then sum up to find position \n",
    "# after each step.\n",
    "X_pos = [X0]\n",
    "Y_pos = [Y0]\n",
    "\n",
    "for t in range(0, T):\n",
    "    X_pos.append(X_pos[t] + muX + sigma*X[t])\n",
    "    Y_pos.append(Y_pos[t] + muY + sigma*Y[t])\n",
    "\n",
    "# Plot the random walk\n",
    "plt.plot(X_pos, Y_pos, \"o-\", markersize=4)\n",
    "\n",
    "# Output the position of the walker after 100 steps\n",
    "print (\"X position:\", X_pos[-1])\n",
    "print (\"Y position:\", Y_pos[-1])"
   ]
  },
  {
   "cell_type": "markdown",
   "metadata": {},
   "source": [
    "### Distribution of the walker's final position\n",
    "\n",
    "We invoke the central limit theorem: If we look at how summed up random variables are distributed, then we are going to find the normal distribution for sufficiently large $N$.\n",
    "\n",
    "Let's see how this happens for our random walker. We are going to set $T=100$, the number of steps to take. Then we are going to collect the last position of each random walker in terms of $(X_T, Y_T)$. Finally, we plot the histograms of both."
   ]
  },
  {
   "cell_type": "code",
   "execution_count": null,
   "metadata": {
    "scrolled": false
   },
   "outputs": [],
   "source": [
    "np.random.seed(538)\n",
    "\n",
    "# Variable to keep track of our final positions\n",
    "final_positions = []\n",
    "\n",
    "# For-Loop to run the walker from the same initial conditions\n",
    "# over and over again.\n",
    "for run in range(100000):\n",
    "    mu = 0.0\n",
    "    sigma = 0.15\n",
    "    X0 = 2.0\n",
    "    Y0 = 2.0\n",
    "    T = 100\n",
    "\n",
    "    # Create T random time steps from a normal distribution.\n",
    "    X = np.random.normal(0, 1, T)\n",
    "    Y = np.random.normal(0, 1, T)\n",
    "\n",
    "    # Insert the first step into the array and then sum up to find position \n",
    "    # after each step.\n",
    "    X_pos = X0\n",
    "    Y_pos = Y0\n",
    "\n",
    "    for t in range(T):\n",
    "        X_pos = X_pos + mu + sigma*X[t]\n",
    "        Y_pos = Y_pos + mu + sigma*Y[t]\n",
    "\n",
    "    # Append to the end of our list of the final positions\n",
    "    # the respective last positions of X and Y.\n",
    "    final_positions.append([X_pos, Y_pos])\n",
    "\n",
    "    \n",
    "# The variable final_positions is a list, but we prefer a numpy array\n",
    "final_positions = np.array(final_positions)\n",
    "\n",
    "# final_position is now a 2-dimensional array.\n",
    "# One dimension is X and Y, and the other is the 5000 runs.\n",
    "X_final = final_positions[:, 0]\n",
    "Y_final = final_positions[:, 1]\n",
    "\n",
    "# We're plotting a histogram for the final position to identify the distribution.\n",
    "# Sometimes it's useful to create subplots to put two plots next to each other:\n",
    "fig, (ax1, ax2) = plt.subplots(1, 2, figsize=(8, 3))\n",
    "\n",
    "# We use 61 bins spanning from -5 to 9, and we tell pyplot to return the PDF, not the counts.\n",
    "ax1.hist(X_final, bins=np.linspace(-5, 10, 61), density=True)\n",
    "print(\"Mean of final X position:\", np.mean(X_final))\n",
    "ax2.hist(Y_final, bins=np.linspace(-5, 10, 61), density=True)\n",
    "print(\"Mean of final Y position:\", np.mean(Y_final))"
   ]
  },
  {
   "cell_type": "code",
   "execution_count": null,
   "metadata": {},
   "outputs": [],
   "source": [
    "final_positions = np.array(final_positions)\n",
    "final_positions"
   ]
  },
  {
   "cell_type": "markdown",
   "metadata": {},
   "source": [
    "If the distribution is normally distributed, then on a log-scale, i.e., transforming all y-variables to the logarithm, the graph should be an inverted parabola.\n",
    "\n",
    "(Recall: The normal distributions is of the form $\\exp\\left[-(x-\\mu)^2\\,/\\,2\\sigma^2\\right]$, therefore, the natural logarithm yields $-(x-\\mu)^2\\,/\\,2\\sigma^2$.)"
   ]
  },
  {
   "cell_type": "code",
   "execution_count": null,
   "metadata": {},
   "outputs": [],
   "source": [
    "fig, (ax1, ax2) = plt.subplots(1, 2, figsize=(8, 3))\n",
    "\n",
    "ax1.hist(X_final, bins=np.linspace(-5, 10, 61), density=True, log=True)\n",
    "print(\"Mean of final X position:\", np.mean(X_final))\n",
    "ax2.hist(Y_final, bins=np.linspace(-5, 10, 61), density=True, log=True)\n",
    "print(\"Mean of final Y position:\", np.mean(Y_final))"
   ]
  },
  {
   "cell_type": "markdown",
   "metadata": {},
   "source": [
    "#### Practice Problem \n",
    "\n",
    "An important property of the random walk is that the variance of the random variable grows as the number of time step grows:\n",
    "\n",
    "$$\\mathrm{Var}(X_t) = \\mathrm{E}[X_t^2] - \\mathrm{E}\\left[X_t\\right]^2 = 2Dt$$\n",
    "\n",
    "where $t$ is the number of steps and $D$ is the so-called diffusion constant.\n",
    "\n",
    "If the random walker has no drift, then it's expected final position is zero and the equation above simplifies to $\\mathrm{E}[X_t^2] = 2Dt$.\n",
    "\n",
    "To see if this relationship holds, do the following:\n",
    "\n",
    "1. Create a random walker without drift that starts at (0, 0) and runs a certain number of steps $t$ and store the square of its final position in a list `X2_m`.\n",
    "2. Run the simulation 1000 times and compute the average of the square of the final position. This is your variance for a given $t$.\n",
    "3. Do this exercise for $t=100, 200, 300, 400, \\dots, 3000$ and plot the result."
   ]
  },
  {
   "cell_type": "code",
   "execution_count": null,
   "metadata": {},
   "outputs": [],
   "source": [
    "# Initialize some parameters\n",
    "np.random.seed(0)\n",
    "mu = 0.0\n",
    "sigma = 1\n",
    "X0, Y0 = 0, 0\n",
    "\n",
    "X2_m, Y2_m = [], []\n",
    "\n",
    "for T in range(100, 3100, 100):\n",
    "#     X2_intermediate, Y2_intermediate = [], []\n",
    "#     for run in range(100):\n",
    "        # initialize\n",
    "#         X = X0\n",
    "#         Y = Y0\n",
    "\n",
    "        # draw random numbers\n",
    "#         Z_X = ...\n",
    "#         Z_Y = ...\n",
    "\n",
    "        # run the walk\n",
    "#         for t in range(T):\n",
    "#             X = ...\n",
    "#             Y = ...\n",
    "            \n",
    "#         X2_intermediate.append(X**2)\n",
    "#         Y2_intermediate.append(Y**2)\n",
    "        \n",
    "#     X2_m.append(np.mean(X2_intermediate))\n",
    "#     Y2_m.append(np.mean(Y2_intermediate))"
   ]
  },
  {
   "cell_type": "code",
   "execution_count": null,
   "metadata": {},
   "outputs": [],
   "source": [
    "# plt.plot(range(100, 3100, 100), X2_m)"
   ]
  },
  {
   "cell_type": "markdown",
   "metadata": {},
   "source": [
    "This concludes the section \"Brownian Motion with a Drift\"\n",
    "_____\n"
   ]
  },
  {
   "cell_type": "markdown",
   "metadata": {},
   "source": [
    "## Modeling Stock Prices\n",
    "\n",
    "Note that the random walks we have been discussing so far in this notebook are *arithmetic random walks*, that is, the randomness is added to the observed variable. \n",
    "However, such random walks are a poor description for some financial time series like stock prices. \n",
    "Stock prices do not grow by an random amount which is drawn from a probability distribution; instead they compound at a random rate which is drawn from a probability distribution:\n",
    "\n",
    "$$S_t = S_{t-1} \\exp\\left(W_t\\right),$$\n",
    "\n",
    "where $W_t=\\mu  + \\sigma_W Z_t$.\n",
    "\n",
    "Simulating a time series for a stock price then consists of two parts:\n",
    "\n",
    "1. Generating a time series $W_t$.\n",
    "2. Computing the time series $S_t$ by plugging in the appropriate $W_t$.\n",
    "\n",
    "We are going to assume that the initial stock price is \\\\$100, and we let $\\mu=0.08 / 252$ and $\\sigma = 0.14 /\\sqrt{252}$. \n",
    "These numbers correspond to an annual drift of $+8\\%$ and an annual volatility of $14\\%$./"
   ]
  },
  {
   "cell_type": "code",
   "execution_count": null,
   "metadata": {},
   "outputs": [],
   "source": [
    "np.random.seed(538)\n",
    "\n",
    "S0 = 100\n",
    "mu, sigma = 0.08 / 252, 0.14 / np.sqrt(252)\n",
    "\n",
    "fig, (ax1, ax2, ax3) = plt.subplots(1, 3, figsize=(8, 2))\n",
    "\n",
    "for ax in (ax1, ax2, ax3):\n",
    "    Wt = mu + sigma*np.random.normal(0, 1, size=100)\n",
    "    St = S0 * np.cumproduct(np.exp(Wt))\n",
    "\n",
    "    ax.plot(St)\n",
    "    ax.set_ylim(85, 135)\n",
    "    \n",
    "plt.tight_layout()"
   ]
  },
  {
   "cell_type": "markdown",
   "metadata": {},
   "source": [
    "<div class=\"alert alert-info\">\n",
    "<b>Python Detail</b><p>\n",
    "    The functions <code>cumsum</code> and <code>cumprod</code> from the <code>numpy</code> module compute the cumulative sum and product of an array of numbers, respectively.\n",
    "    They return an array in which each element <code>i</code> is the sum of all previous elements and element <code>i</code> of the original list summed up / multiplied together.\n",
    "</div>\n",
    "\n",
    "Let's look at multiple realizations."
   ]
  },
  {
   "cell_type": "code",
   "execution_count": null,
   "metadata": {},
   "outputs": [],
   "source": [
    "np.random.seed(538)\n",
    "\n",
    "# Run 10000 simulations with 2000 time steps each.\n",
    "N, T = 10000, 2000\n",
    "\n",
    "S0 = 100*np.ones(N)\n",
    "mu, sigma = 0.08 / 252, 0.14 / np.sqrt(252)\n",
    "\n",
    "Wt = mu*np.ones(N) + sigma*np.random.normal(0, 1, size=[2000, N])\n",
    "St = S0 * np.cumproduct(1+Wt, axis=0)\n",
    "\n",
    "fig, ax = plt.subplots(figsize=(8, 5))\n",
    "\n",
    "# Plot only every 500th outcome for better readability.\n",
    "ax.plot(St[::, ::500])\n",
    "ax.set_ylim(0, 550);"
   ]
  },
  {
   "cell_type": "markdown",
   "metadata": {},
   "source": [
    "\n",
    "What is the distribution of our random process after 2,000 steps, that is, what is the distribution of the possible outcomes for the stock price?\n",
    "We approximate the distribution by looking at the outcomes of the simulation, which are the last entry of `St`."
   ]
  },
  {
   "cell_type": "code",
   "execution_count": null,
   "metadata": {},
   "outputs": [],
   "source": [
    "plt.hist(St[-1], bins=np.linspace(0, 500, 50));"
   ]
  },
  {
   "cell_type": "markdown",
   "metadata": {},
   "source": [
    "This is the lognormal distribution! \n",
    "When we are compounding thestock price at a rate that is normally distributed, the resulting distribution is lognormal.\n",
    "\n",
    "<div class=\"alert alert-info\">\n",
    "<b>Mathematical Detail</b><p>\n",
    "    The random variable $S_t$ for our stock prices is a discrete variable because we can only simulate discrete time steps on a computer.\n",
    "    If the time steps become smaller and smaller, the discrete variable goes over into a continuous variable: $S_t \\rightarrow S(t)$.\n",
    "    <p>\n",
    "    We can rewrite  <p>\n",
    "        $$S_t = S_{t-1} \\exp\\left(W_t\\right) = S_0 \\exp\\left(W_1\\right)\\exp\\left(W_2\\right)\\dots \\exp\\left(W_t\\right)$$<p>\n",
    "    and in the limit of small steps we get<p>\n",
    "        $$S(t) = S_0 \\exp[W(t)],$$<p>\n",
    "    where $W(t)$ is the random term which is normally distributed.\n",
    "</div>\n",
    "\n",
    "\n",
    "#### Practice Problem\n",
    "\n",
    "Above we show the distribution of stock prices after 2000 steps.\n",
    "Plot the distribution of stock prices after 500 steps, 1000 steps and 1500 steps. Compare and discuss."
   ]
  },
  {
   "cell_type": "code",
   "execution_count": null,
   "metadata": {},
   "outputs": [],
   "source": []
  },
  {
   "cell_type": "markdown",
   "metadata": {},
   "source": [
    "This concludes the section \"Modeling Stock Prices\"\n",
    "_____\n"
   ]
  },
  {
   "cell_type": "markdown",
   "metadata": {},
   "source": [
    "## Modeling Stock Returns\n",
    "\n",
    "If we model stock prices as \n",
    "\n",
    "$$S_t = S_{t-1} \\exp(W_t),$$\n",
    "\n",
    "then the time series\n",
    "\n",
    "$$\\log S_t = \\log S_{t-1} + W_t$$\n",
    "\n",
    "follows a Gaussian random walk since it is of the form $X_t = X_{t-1} + W_t$, where $W_t$ is a normally distributed random variable.\n",
    "\n",
    "(Note that this is by design. We said that stock prices compound where the rate of compounding was a normal variable, so we are simply undoing our previous modeling steps.)\n",
    "\n",
    "<div class=\"alert alert-info\">\n",
    "<b>Mathematical Detail</b><p>\n",
    "    The logarithm has the following properties:\n",
    "    <ul>\n",
    "        <li>$\\log (\\exp[x]) = x$,</li>\n",
    "        <li>$\\log (xy) = \\log (x) + \\log (y)$,</li>\n",
    "        <li>$\\log (x/y) = \\log(x) - \\log(y)$.</li>\n",
    "    </ul>\n",
    "</div>\n",
    "\n",
    "As a random walk, $\\log S_t$, which is also called the log-price, suffers from the same non-stationarity issues as time series we have considered before.\n",
    "Fortunately, the fix is the same: compute the first difference.\n",
    "\n",
    "<div class=\"alert alert-warning\">\n",
    "<b>Stock Returns</b><p>\n",
    "    The (log-)return of a stock is defined as \n",
    "    $$r_t = \\log (S_t) - \\log (S_{t-1}) = W_t.$$<p>\n",
    "    Here $S_t$ is the stock price at time $t$ and $\\log(S_t)$ is the so-called log-price at time $t$.<p>\n",
    "    If the stock price $S_t$ is modeled as $S_t = S_{t-1} \\exp(W_t)$, then $r_t$ is distributed in the same way $W_t$ is distributed.<p>\n",
    "    In financial modeling, $W_t$ is often assumed to be normally distributed; as a result, stock returns are assumed to be normally distributed as well.\n",
    "</div>"
   ]
  },
  {
   "cell_type": "markdown",
   "metadata": {},
   "source": [
    "\n",
    "Let us explore both the behavior of stock prices and stock returns with our model.\n",
    "We are going to load a csv-file containing the daily stock prices of Apple Inc. from 2017 to 2019.\n",
    "`numpy` has the function `fromfile()` which takes as mandatory arguments the file path, and typically we have to pass the separator `sep` so that the file reader knows which character separates entries in the file.\n",
    "\n",
    "We store the data as `aapl_price`. \n",
    "Then we apply the function `log()` from the `numpy` module on it, which transforms the prices into log-prices, and we store the result as `aapl_logpr`.\n",
    "Finally, we compute the first differences, using the `numpy` function `diff()`, storing the result as `aapl_return`."
   ]
  },
  {
   "cell_type": "code",
   "execution_count": null,
   "metadata": {
    "scrolled": true
   },
   "outputs": [],
   "source": [
    "aapl_price = np.fromfile(\"./2_AAPL.csv\", sep=\",\")\n",
    "aapl_logpr = np.log(aapl_price)\n",
    "aapl_return = np.diff(aapl_logpr)\n",
    "\n",
    "fig, (ax1, ax2, ax3) = plt.subplots(1, 3, figsize=(8, 2))\n",
    "\n",
    "ax1.plot(aapl_price)\n",
    "ax1.set_xlabel(\"Time Step\")\n",
    "ax1.set_ylabel(\"Apple Stock Price\")\n",
    "ax2.plot(aapl_logpr)\n",
    "ax2.set_xlabel(\"Time Step\")\n",
    "ax2.set_ylabel(\"Apple Log-Price\")\n",
    "ax3.plot(aapl_return)\n",
    "ax3.set_xlabel(\"Time Step\")\n",
    "ax3.set_ylabel(\"Apple Return\")\n",
    "\n",
    "plt.tight_layout(pad=0.9)"
   ]
  },
  {
   "cell_type": "markdown",
   "metadata": {},
   "source": [
    "This concludes the section \"Modeling Stock Returns\"\n",
    "_____\n"
   ]
  }
 ],
 "metadata": {
  "kernelspec": {
   "display_name": "Python 3 (ipykernel)",
   "language": "python",
   "name": "python3"
  },
  "language_info": {
   "codemirror_mode": {
    "name": "ipython",
    "version": 3
   },
   "file_extension": ".py",
   "mimetype": "text/x-python",
   "name": "python",
   "nbconvert_exporter": "python",
   "pygments_lexer": "ipython3",
   "version": "3.9.15"
  }
 },
 "nbformat": 4,
 "nbformat_minor": 4
}
